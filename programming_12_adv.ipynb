{
  "nbformat": 4,
  "nbformat_minor": 0,
  "metadata": {
    "colab": {
      "provenance": [],
      "authorship_tag": "ABX9TyNdOcMTl3ZjDWwUoA3pfseV",
      "include_colab_link": true
    },
    "kernelspec": {
      "name": "python3",
      "display_name": "Python 3"
    },
    "language_info": {
      "name": "python"
    }
  },
  "cells": [
    {
      "cell_type": "markdown",
      "metadata": {
        "id": "view-in-github",
        "colab_type": "text"
      },
      "source": [
        "<a href=\"https://colab.research.google.com/github/rea-sna/ProgrammingBasics/blob/main/programming_12_adv.ipynb\" target=\"_parent\"><img src=\"https://colab.research.google.com/assets/colab-badge.svg\" alt=\"Open In Colab\"/></a>"
      ]
    },
    {
      "cell_type": "code",
      "execution_count": 1,
      "metadata": {
        "id": "q9FyeQyvEl75"
      },
      "outputs": [],
      "source": [
        "import random"
      ]
    },
    {
      "cell_type": "code",
      "source": [
        "def gacha(n):\n",
        "  cd = 0\n",
        "  posters = []\n",
        "  while len(set(posters)) < n:\n",
        "    posters.append(random.randint(1,n))\n",
        "    cd += 1\n",
        "  return cd"
      ],
      "metadata": {
        "id": "J9G83aY8EoyD"
      },
      "execution_count": 3,
      "outputs": []
    },
    {
      "cell_type": "code",
      "source": [
        "trial = 100\n",
        "cd = 0\n",
        "N = 44\n",
        "for _ in range(trial):\n",
        "  cd += gacha(N)\n",
        "print(cd/trial)"
      ],
      "metadata": {
        "colab": {
          "base_uri": "https://localhost:8080/"
        },
        "id": "HQWZWkoQFglf",
        "outputId": "92f5a48f-ab1f-461b-e0a7-c15ae779c016"
      },
      "execution_count": 4,
      "outputs": [
        {
          "output_type": "stream",
          "name": "stdout",
          "text": [
            "190.65\n"
          ]
        }
      ]
    },
    {
      "cell_type": "code",
      "source": [
        "def p(n):\n",
        "  r = 0.0\n",
        "  for i in range(n):\n",
        "    r += n/ (i+1)\n",
        "  return r\n",
        "\n",
        "p(44)"
      ],
      "metadata": {
        "colab": {
          "base_uri": "https://localhost:8080/"
        },
        "id": "rn7uAgOlFnIP",
        "outputId": "1b32e9cb-13a3-41a4-e157-a1bee2711659"
      },
      "execution_count": 5,
      "outputs": [
        {
          "output_type": "execute_result",
          "data": {
            "text/plain": [
              "192.3999393064804"
            ]
          },
          "metadata": {},
          "execution_count": 5
        }
      ]
    },
    {
      "cell_type": "code",
      "source": [],
      "metadata": {
        "id": "o0xd-ilmF08Z"
      },
      "execution_count": null,
      "outputs": []
    }
  ]
}