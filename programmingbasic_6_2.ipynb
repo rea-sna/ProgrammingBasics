{
  "nbformat": 4,
  "nbformat_minor": 0,
  "metadata": {
    "colab": {
      "provenance": [],
      "authorship_tag": "ABX9TyNscKznbjuG/krs5Mh+xgOz",
      "include_colab_link": true
    },
    "kernelspec": {
      "name": "python3",
      "display_name": "Python 3"
    },
    "language_info": {
      "name": "python"
    }
  },
  "cells": [
    {
      "cell_type": "markdown",
      "metadata": {
        "id": "view-in-github",
        "colab_type": "text"
      },
      "source": [
        "<a href=\"https://colab.research.google.com/github/rea-sna/ProgrammingBasics/blob/main/programmingbasic_6_2.ipynb\" target=\"_parent\"><img src=\"https://colab.research.google.com/assets/colab-badge.svg\" alt=\"Open In Colab\"/></a>"
      ]
    },
    {
      "cell_type": "code",
      "execution_count": 1,
      "metadata": {
        "id": "j0o6zYjLA6wp"
      },
      "outputs": [],
      "source": [
        "import numpy as np\n",
        "from matplotlib import pyplot as plt"
      ]
    },
    {
      "cell_type": "code",
      "source": [
        "!wget https://kaityo256.github.io/python_zero/file/colortv.csv"
      ],
      "metadata": {
        "colab": {
          "base_uri": "https://localhost:8080/"
        },
        "id": "PcqK-2VzBDg2",
        "outputId": "749d4ae8-0390-4f54-b1b2-aee9e147834c"
      },
      "execution_count": 2,
      "outputs": [
        {
          "output_type": "stream",
          "name": "stdout",
          "text": [
            "--2024-10-12 13:56:45--  https://kaityo256.github.io/python_zero/file/colortv.csv\n",
            "Resolving kaityo256.github.io (kaityo256.github.io)... 185.199.108.153, 185.199.109.153, 185.199.110.153, ...\n",
            "Connecting to kaityo256.github.io (kaityo256.github.io)|185.199.108.153|:443... connected.\n",
            "HTTP request sent, awaiting response... 200 OK\n",
            "Length: 162 [text/csv]\n",
            "Saving to: ‘colortv.csv’\n",
            "\n",
            "\rcolortv.csv           0%[                    ]       0  --.-KB/s               \rcolortv.csv         100%[===================>]     162  --.-KB/s    in 0s      \n",
            "\n",
            "2024-10-12 13:56:45 (7.14 MB/s) - ‘colortv.csv’ saved [162/162]\n",
            "\n"
          ]
        }
      ]
    },
    {
      "cell_type": "code",
      "source": [
        "!head colortv.csv"
      ],
      "metadata": {
        "colab": {
          "base_uri": "https://localhost:8080/"
        },
        "id": "CAFKrUSqBHKB",
        "outputId": "0ebe6c42-e3ba-4f26-dae8-45aad19597e3"
      },
      "execution_count": 5,
      "outputs": [
        {
          "output_type": "stream",
          "name": "stdout",
          "text": [
            "1966,0.3\r\n",
            "1967,1.6\r\n",
            "1968,5.4\r\n",
            "1969,13.9\r\n",
            "1970,26.3\r\n",
            "1971,42.3\r\n",
            "1972,61.1\r\n",
            "1973,75.8\r\n",
            "1974,85.9\r\n",
            "1975,90.3\r\n"
          ]
        }
      ]
    },
    {
      "cell_type": "code",
      "source": [
        "tv_year = []\n",
        "tv_data = []\n",
        "with open(\"colortv.csv\") as f:\n",
        "  for line in f:\n",
        "    y, d = line.split(\",\")\n",
        "    tv_year.append(int(y))\n",
        "    tv_data.append(float(d))\n",
        "plt.scatter(tv_year, tv_data)"
      ],
      "metadata": {
        "colab": {
          "base_uri": "https://localhost:8080/",
          "height": 447
        },
        "id": "DzPgfFF5BJGA",
        "outputId": "0ad072fc-2cb0-4b26-f43f-c9e92a3da65a"
      },
      "execution_count": 6,
      "outputs": [
        {
          "output_type": "execute_result",
          "data": {
            "text/plain": [
              "<matplotlib.collections.PathCollection at 0x7f9dd1a22470>"
            ]
          },
          "metadata": {},
          "execution_count": 6
        },
        {
          "output_type": "display_data",
          "data": {
            "text/plain": [
              "<Figure size 640x480 with 1 Axes>"
            ],
            "image/png": "[encoded data removed]"
          },
          "metadata": {}
        }
      ]
    },
    {
      "cell_type": "code",
      "source": [
        "!wget https://kaityo256.github.io/python_zero/file/lifespan.csv"
      ],
      "metadata": {
        "colab": {
          "base_uri": "https://localhost:8080/"
        },
        "id": "jYnD7MMTBMi_",
        "outputId": "69f21637-b74d-49bc-8f5e-e1acbcdcd5b6"
      },
      "execution_count": 7,
      "outputs": [
        {
          "output_type": "stream",
          "name": "stdout",
          "text": [
            "--2024-10-12 13:58:48--  https://kaityo256.github.io/python_zero/file/lifespan.csv\n",
            "Resolving kaityo256.github.io (kaityo256.github.io)... 185.199.108.153, 185.199.109.153, 185.199.110.153, ...\n",
            "Connecting to kaityo256.github.io (kaityo256.github.io)|185.199.108.153|:443... connected.\n",
            "HTTP request sent, awaiting response... 200 OK\n",
            "Length: 178 [text/csv]\n",
            "Saving to: ‘lifespan.csv’\n",
            "\n",
            "\rlifespan.csv          0%[                    ]       0  --.-KB/s               \rlifespan.csv        100%[===================>]     178  --.-KB/s    in 0s      \n",
            "\n",
            "2024-10-12 13:58:49 (7.56 MB/s) - ‘lifespan.csv’ saved [178/178]\n",
            "\n"
          ]
        }
      ]
    },
    {
      "cell_type": "code",
      "source": [
        "!head lifespan.csv"
      ],
      "metadata": {
        "colab": {
          "base_uri": "https://localhost:8080/"
        },
        "id": "8IbYpP4DBlR5",
        "outputId": "6ed22843-8377-46a5-c4bc-17fdb3c47514"
      },
      "execution_count": 8,
      "outputs": [
        {
          "output_type": "stream",
          "name": "stdout",
          "text": [
            "1966,68.35\r\n",
            "1967,68.91\r\n",
            "1968,69.05\r\n",
            "1969,69.18\r\n",
            "1970,69.31\r\n",
            "1971,70.17\r\n",
            "1972,70.5\r\n",
            "1973,70.7\r\n",
            "1974,71.16\r\n",
            "1975,71.73\r\n"
          ]
        }
      ]
    },
    {
      "cell_type": "code",
      "source": [
        "life_year = []\n",
        "life_data = []\n",
        "with open(\"lifespan.csv\") as f:\n",
        "  for line in f:\n",
        "    y, d = line.split(\",\")\n",
        "    life_year.append(int(y))\n",
        "    life_data.append(float(d))\n",
        "plt.scatter(life_year, life_data)"
      ],
      "metadata": {
        "colab": {
          "base_uri": "https://localhost:8080/",
          "height": 447
        },
        "id": "DdLunRoeBnXK",
        "outputId": "fe58f5be-7a95-46d8-e9d1-7e9d030e4c15"
      },
      "execution_count": 9,
      "outputs": [
        {
          "output_type": "execute_result",
          "data": {
            "text/plain": [
              "<matplotlib.collections.PathCollection at 0x7f9dd176a3b0>"
            ]
          },
          "metadata": {},
          "execution_count": 9
        },
        {
          "output_type": "display_data",
          "data": {
            "text/plain": [
              "<Figure size 640x480 with 1 Axes>"
            ],
            "image/png": "[encoded data removed]"
          },
          "metadata": {}
        }
      ]
    },
    {
      "cell_type": "code",
      "source": [
        "# （横軸）カラーテレビの普及率\n",
        "plt.xlabel(\"TV\")\n",
        "# （縦軸）平均寿命\n",
        "plt.ylabel(\"Lifespan\")\n",
        "plt.scatter(tv_data, life_data)"
      ],
      "metadata": {
        "colab": {
          "base_uri": "https://localhost:8080/",
          "height": 466
        },
        "id": "4_FeyByMBxyF",
        "outputId": "5c9f2c0a-1d35-475e-8699-6c9cc3f7df44"
      },
      "execution_count": 11,
      "outputs": [
        {
          "output_type": "execute_result",
          "data": {
            "text/plain": [
              "<matplotlib.collections.PathCollection at 0x7f9dd1a1bb20>"
            ]
          },
          "metadata": {},
          "execution_count": 11
        },
        {
          "output_type": "display_data",
          "data": {
            "text/plain": [
              "<Figure size 640x480 with 1 Axes>"
            ],
            "image/png": "[encoded data removed]"
          },
          "metadata": {}
        }
      ]
    },
    {
      "cell_type": "code",
      "source": [
        "np.corrcoef(tv_data, life_data)"
      ],
      "metadata": {
        "colab": {
          "base_uri": "https://localhost:8080/"
        },
        "id": "Xq8j7wWWCaAm",
        "outputId": "0d9fb4f3-bedd-4b7d-bbff-34c5455808f0"
      },
      "execution_count": 13,
      "outputs": [
        {
          "output_type": "execute_result",
          "data": {
            "text/plain": [
              "array([[1.        , 0.94816361],\n",
              "       [0.94816361, 1.        ]])"
            ]
          },
          "metadata": {},
          "execution_count": 13
        }
      ]
    },
    {
      "cell_type": "code",
      "source": [],
      "metadata": {
        "id": "7O4IP1g4Ce6m"
      },
      "execution_count": null,
      "outputs": []
    }
  ]
}