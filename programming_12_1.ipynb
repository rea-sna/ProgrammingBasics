{
  "nbformat": 4,
  "nbformat_minor": 0,
  "metadata": {
    "colab": {
      "provenance": [],
      "authorship_tag": "ABX9TyMVEY+hjuWw2uITvcureVj7",
      "include_colab_link": true
    },
    "kernelspec": {
      "name": "python3",
      "display_name": "Python 3"
    },
    "language_info": {
      "name": "python"
    }
  },
  "cells": [
    {
      "cell_type": "markdown",
      "metadata": {
        "id": "view-in-github",
        "colab_type": "text"
      },
      "source": [
        "<a href=\"https://colab.research.google.com/github/rea-sna/ProgrammingBasics/blob/main/programming_12_1.ipynb\" target=\"_parent\"><img src=\"https://colab.research.google.com/assets/colab-badge.svg\" alt=\"Open In Colab\"/></a>"
      ]
    },
    {
      "cell_type": "code",
      "execution_count": 1,
      "metadata": {
        "id": "6YpBnlJ98-n9"
      },
      "outputs": [],
      "source": [
        "from random import choice, seed\n",
        "from copy import copy"
      ]
    },
    {
      "cell_type": "code",
      "source": [
        "def keep(boxes):\n",
        "  answer = choice(boxes)\n",
        "  first_choice = choice(boxes)\n",
        "  return answer == first_choice"
      ],
      "metadata": {
        "id": "zO7hFg-R9X0p"
      },
      "execution_count": 2,
      "outputs": []
    },
    {
      "cell_type": "code",
      "source": [
        "seed(1)\n",
        "boxes = [1, 2, 3]\n",
        "for _ in range(10):\n",
        "  print(keep(boxes))"
      ],
      "metadata": {
        "colab": {
          "base_uri": "https://localhost:8080/"
        },
        "id": "tKaAz8lj9i5q",
        "outputId": "32c5fcb8-2ffb-47a8-b30d-a33a9d895fbe"
      },
      "execution_count": 3,
      "outputs": [
        {
          "output_type": "stream",
          "name": "stdout",
          "text": [
            "False\n",
            "False\n",
            "False\n",
            "True\n",
            "False\n",
            "True\n",
            "False\n",
            "True\n",
            "False\n",
            "False\n"
          ]
        }
      ]
    },
    {
      "cell_type": "code",
      "source": [
        "def change(boxes):\n",
        "  answer = choice(boxes)\n",
        "  first_choice = choice(boxes)\n",
        "  rest_boxes = boxes.copy()\n",
        "  rest_boxes.remove(answer)\n",
        "  if first_choice == answer:\n",
        "    second_choice = choice(rest_boxes)\n",
        "  else:\n",
        "    second_choice = answer\n",
        "  return answer == second_choice"
      ],
      "metadata": {
        "id": "W4Ma9dNA9qmo"
      },
      "execution_count": 4,
      "outputs": []
    },
    {
      "cell_type": "code",
      "source": [
        "seed(1)\n",
        "boxes = [1, 2, 3]\n",
        "for _ in range(10):\n",
        "  print(change(boxes))"
      ],
      "metadata": {
        "colab": {
          "base_uri": "https://localhost:8080/"
        },
        "id": "knOZZu5x_Pei",
        "outputId": "b565d80e-d32d-4051-b241-6389fef44e90"
      },
      "execution_count": 5,
      "outputs": [
        {
          "output_type": "stream",
          "name": "stdout",
          "text": [
            "True\n",
            "True\n",
            "True\n",
            "False\n",
            "False\n",
            "True\n",
            "True\n",
            "True\n",
            "False\n",
            "True\n"
          ]
        }
      ]
    },
    {
      "cell_type": "code",
      "source": [
        "seed(1)\n",
        "boxes = [1, 2, 3]\n",
        "k = 0\n",
        "c = 0\n",
        "n = 10000\n",
        "for _ in range(n):\n",
        "  if keep(boxes):\n",
        "    k += 1\n",
        "  if change(boxes):\n",
        "    c += 1\n",
        "print(f\"Keep   : {k/n}\")\n",
        "print(f\"Change : {c/n}\")"
      ],
      "metadata": {
        "colab": {
          "base_uri": "https://localhost:8080/"
        },
        "id": "B8sEHX2n_S5k",
        "outputId": "af692226-bf4c-43fd-831f-ad0aa3cd51d4"
      },
      "execution_count": 7,
      "outputs": [
        {
          "output_type": "stream",
          "name": "stdout",
          "text": [
            "Keep   : 0.3305\n",
            "Change : 0.6712\n"
          ]
        }
      ]
    },
    {
      "cell_type": "code",
      "source": [],
      "metadata": {
        "id": "LNBim7WH_r7H"
      },
      "execution_count": null,
      "outputs": []
    }
  ]
}