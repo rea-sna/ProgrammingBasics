{
  "nbformat": 4,
  "nbformat_minor": 0,
  "metadata": {
    "colab": {
      "provenance": [],
      "authorship_tag": "ABX9TyM0Bo7WETOVNEZ1kbTbUlMm",
      "include_colab_link": true
    },
    "kernelspec": {
      "name": "python3",
      "display_name": "Python 3"
    },
    "language_info": {
      "name": "python"
    }
  },
  "cells": [
    {
      "cell_type": "markdown",
      "metadata": {
        "id": "view-in-github",
        "colab_type": "text"
      },
      "source": [
        "<a href=\"https://colab.research.google.com/github/rea-sna/ProgrammingBasics/blob/main/programmingbasic_11_1.ipynb\" target=\"_parent\"><img src=\"https://colab.research.google.com/assets/colab-badge.svg\" alt=\"Open In Colab\"/></a>"
      ]
    },
    {
      "cell_type": "code",
      "execution_count": 2,
      "metadata": {
        "id": "L9lEMLDwhbBY"
      },
      "outputs": [],
      "source": [
        "import pickle\n",
        "from collections import defaultdict"
      ]
    },
    {
      "cell_type": "code",
      "source": [
        "FILE='https://kaityo256.github.io/python_zero/dp/saizeriya.pickle'\n",
        "!wget $FILE"
      ],
      "metadata": {
        "colab": {
          "base_uri": "https://localhost:8080/"
        },
        "id": "cg7Je4Hmh3V5",
        "outputId": "a7f94c0a-16f3-4db2-d4d6-13b08558b8a3"
      },
      "execution_count": 5,
      "outputs": [
        {
          "output_type": "stream",
          "name": "stdout",
          "text": [
            "--2024-10-28 00:36:18--  https://kaityo256.github.io/python_zero/dp/saizeriya.pickle\n",
            "Resolving kaityo256.github.io (kaityo256.github.io)... 185.199.111.153, 185.199.109.153, 185.199.110.153, ...\n",
            "Connecting to kaityo256.github.io (kaityo256.github.io)|185.199.111.153|:443... connected.\n",
            "HTTP request sent, awaiting response... 200 OK\n",
            "Length: 5293 (5.2K) [application/octet-stream]\n",
            "Saving to: ‘saizeriya.pickle.1’\n",
            "\n",
            "\rsaizeriya.pickle.1    0%[                    ]       0  --.-KB/s               \rsaizeriya.pickle.1  100%[===================>]   5.17K  --.-KB/s    in 0s      \n",
            "\n",
            "2024-10-28 00:36:18 (64.8 MB/s) - ‘saizeriya.pickle.1’ saved [5293/5293]\n",
            "\n"
          ]
        }
      ]
    },
    {
      "cell_type": "code",
      "source": [
        "with open('saizeriya.pickle', 'rb') as f:\n",
        "    names, prices, cals = pickle.load(f)\n",
        "names"
      ],
      "metadata": {
        "colab": {
          "base_uri": "https://localhost:8080/"
        },
        "id": "VEdEz-rch7cZ",
        "outputId": "6cb09a9f-b50a-4bdb-fc7a-3c2785a75f17"
      },
      "execution_count": 7,
      "outputs": [
        {
          "output_type": "execute_result",
          "data": {
            "text/plain": [
              "['彩りガーデンサラダ',\n",
              " '小エビのサラダ',\n",
              " 'やわらかチキンのサラダ',\n",
              " 'わかめサラダ',\n",
              " 'イタリアンサラダ',\n",
              " 'シーフードサラダ',\n",
              " '半熟卵とポークのサラダ',\n",
              " 'コーンクリームスープ',\n",
              " '冷たいパンプキンスープ(季節限定)',\n",
              " 'たっぷり野菜のミネストローネ(季節限定)',\n",
              " '削りたてペコリーノチーズ',\n",
              " 'ミニフィセル',\n",
              " 'ガーリックトースト',\n",
              " 'セットドリンクバー',\n",
              " '辛味チキン',\n",
              " 'アスパラガスのオーブン焼き(季節限定)',\n",
              " 'ポップコーンシュリンプ',\n",
              " 'エスカルゴのオーブン焼き',\n",
              " 'ムール貝のガーリック焼き',\n",
              " '野菜ソースのグリルソーセージ',\n",
              " 'チョリソー',\n",
              " '柔らか青豆の温サラダ',\n",
              " 'ほうれん草のソテー',\n",
              " 'キャベツとアンチョビのソテー',\n",
              " 'ポテトのグリル',\n",
              " 'セロリのピクルス(季節限定)',\n",
              " '真イカのパプリカソース',\n",
              " 'フォッカチオ',\n",
              " 'プチフォッカ',\n",
              " 'セットプチフォッカ',\n",
              " 'グラスワイン',\n",
              " 'デカンタ・250ml',\n",
              " 'デカンタ・500ml',\n",
              " 'キリン一番搾り（ジョッキ）',\n",
              " 'キリン一番搾り（グラス）',\n",
              " 'ストロングゼロダブルレモン',\n",
              " 'マグナム・1500ml',\n",
              " 'グラッパ',\n",
              " 'ランブルスコセッコ（赤）辛口',\n",
              " 'ランブルスコ（ロゼ）甘口',\n",
              " 'ベルデッキオ（辛口・中）',\n",
              " 'キャンティ（辛口・やや重い）',\n",
              " 'キャンティルフィナリゼルパ（辛口・重い）',\n",
              " 'サイゼリヤプレミアム（辛口・重い）',\n",
              " 'サントリーオールフリー',\n",
              " 'フレッシュチーズとトマトのサラダ',\n",
              " 'フレッシュチーズとトマトのサラダ(Wサイズ)',\n",
              " 'プロシュート',\n",
              " 'プロシュート(Wサイズ)',\n",
              " '熟成ミラノサラミ',\n",
              " '熟成ミラノサラミ(Wサイズ)',\n",
              " 'マルゲリータピザ',\n",
              " 'パンチェッタのピザ',\n",
              " '野菜ときのこのピザ',\n",
              " 'やわらかイカのアンチョビのピザ',\n",
              " 'バッファローモッツァレラのピザ',\n",
              " 'ミラノサラミのピザ',\n",
              " 'ほうれん草のグラタン(季節限定)',\n",
              " 'シーフードグラタン',\n",
              " 'アラビアータ',\n",
              " 'ミートソースボロニア風',\n",
              " '半熟卵のミートソースボロニア風',\n",
              " 'アーリオ・オーリオ',\n",
              " 'キャベツのペペロンチーノ',\n",
              " 'タラコソースシシリー風',\n",
              " 'スープ入りトマト味ボンゴレ(季節限定)',\n",
              " 'パルマ風スパゲッティ',\n",
              " 'イカの墨入りスパゲッティ',\n",
              " 'カルボナーラ',\n",
              " 'アスパラガスとエビのクリームスパゲッティ(季節限定)',\n",
              " 'アラビアータ(Wサイズ)',\n",
              " 'ミートソースボロニア風(Wサイズ)',\n",
              " 'アーリオ・オーリオ(Wサイズ)',\n",
              " 'キャベツのペペロンチーノ(Wサイズ)',\n",
              " 'タラコソースシシリー風(Wサイズ)',\n",
              " 'パルマ風スパゲッティ(Wサイズ)',\n",
              " 'イカの墨入りスパゲッティ(Wサイズ)',\n",
              " 'カルボナーラ(Wサイズ)',\n",
              " 'アスパラガスとエビのクリームスパゲッティ(季節限定)(Wサイズ)',\n",
              " 'トッピング半熟卵',\n",
              " 'ミラノ風ドリア',\n",
              " '半熟卵のミラノ風ドリア',\n",
              " 'セットプチフォッカ付きミラノ風ドリア',\n",
              " 'いろどり野菜のミラノ風ドリア',\n",
              " 'エビとイカのドリア',\n",
              " 'シーフードパエリア',\n",
              " 'エビと野菜のトマトクリームリゾット',\n",
              " 'ハヤシ&ターメリックライス',\n",
              " '半熟卵のハヤシ＆ターメリックライス',\n",
              " 'ミックスグリル',\n",
              " 'ハンバーグステーキ',\n",
              " 'デミグラスソースのハンバーグ',\n",
              " '野菜ソースのハンバーグ(ディアボラ風)',\n",
              " 'イタリアンハンバーグ',\n",
              " '焼肉とハンバーグの盛合せ',\n",
              " '若鶏のグリル(ディアボラ風)',\n",
              " '柔らかチキンのチーズ焼き',\n",
              " 'パンチェッタと若鶏のグリル',\n",
              " 'リブステーキ',\n",
              " 'ライス',\n",
              " 'ラージライス',\n",
              " 'スモールライス',\n",
              " 'カプチーノ(アイスケーキ)(季節限定)',\n",
              " 'ティラミス(アイスケーキ)',\n",
              " 'シナモンフォッカチオ',\n",
              " 'プリンとカプチーノの盛合せ',\n",
              " 'プリンとティラミスの盛合せ',\n",
              " 'ミルクアイスのせシナモンフォッカチオ',\n",
              " 'ミルクジェラート',\n",
              " 'シチリア産レモンのソルベ',\n",
              " 'イタリアンプリン',\n",
              " 'チョコレートケーキ',\n",
              " 'コーヒーゼリー',\n",
              " 'トリフアイスクリーム']"
            ]
          },
          "metadata": {},
          "execution_count": 7
        }
      ]
    },
    {
      "cell_type": "code",
      "source": [
        "def greedy(budget):\n",
        "  ind = list(range(len(names)))\n",
        "  ind = sorted(ind, key=lambda x: cals[x] / prices[x], reverse=True)\n",
        "  psum = 0\n",
        "  csum = 0\n",
        "  for i in ind:\n",
        "    if psum + prices[i] >= budget:\n",
        "      continue\n",
        "    psum += prices[i]\n",
        "    csum += cals[i]\n",
        "    print(f\"{names[i]} {prices[i]} Yen {cals[i]} kcal\")\n",
        "  print(f\"Total {psum} Yen, {csum} kcal\")"
      ],
      "metadata": {
        "id": "muEmEqohj28k"
      },
      "execution_count": 8,
      "outputs": []
    },
    {
      "cell_type": "code",
      "source": [
        "%%time\n",
        "greedy(10000)"
      ],
      "metadata": {
        "colab": {
          "base_uri": "https://localhost:8080/"
        },
        "id": "uVNwGycdk9tQ",
        "outputId": "7f232e3e-74a1-4ffc-d7d4-ce4b5b7efba7"
      },
      "execution_count": 10,
      "outputs": [
        {
          "output_type": "stream",
          "name": "stdout",
          "text": [
            "ラージライス 219 Yen 454 kcal\n",
            "アーリオ・オーリオ(Wサイズ) 574 Yen 1120 kcal\n",
            "アーリオ・オーリオ 299 Yen 560 kcal\n",
            "ポテトのグリル 199 Yen 366 kcal\n",
            "パルマ風スパゲッティ(Wサイズ) 770 Yen 1400 kcal\n",
            "ミラノ風ドリア 299 Yen 542 kcal\n",
            "フォッカチオ 119 Yen 214 kcal\n",
            "ライス 169 Yen 303 kcal\n",
            "キャベツのペペロンチーノ(Wサイズ) 770 Yen 1372 kcal\n",
            "カルボナーラ(Wサイズ) 976 Yen 1730 kcal\n",
            "パルマ風スパゲッティ 399 Yen 700 kcal\n",
            "カルボナーラ 499 Yen 865 kcal\n",
            "キャベツのペペロンチーノ 399 Yen 686 kcal\n",
            "半熟卵のミラノ風ドリア 368 Yen 632 kcal\n",
            "セットプチフォッカ付きミラノ風ドリア 378 Yen 649 kcal\n",
            "パンチェッタのピザ 399 Yen 646 kcal\n",
            "タラコソースシシリー風(Wサイズ) 770 Yen 1210 kcal\n",
            "プチフォッカ 139 Yen 214 kcal\n",
            "アラビアータ(Wサイズ) 770 Yen 1182 kcal\n",
            "野菜ときのこのピザ 399 Yen 610 kcal\n",
            "タラコソースシシリー風 399 Yen 605 kcal\n",
            "アラビアータ 399 Yen 591 kcal\n",
            "シナモンフォッカチオ 169 Yen 246 kcal\n",
            "セットプチフォッカ 79 Yen 107 kcal\n",
            "Total 9960 Yen, 17004 kcal\n",
            "CPU times: user 2.25 ms, sys: 0 ns, total: 2.25 ms\n",
            "Wall time: 2.27 ms\n"
          ]
        }
      ]
    },
    {
      "cell_type": "code",
      "source": [
        "# 6\n",
        "def search(n, budget):\n",
        "  if n < 0:\n",
        "    return 0\n",
        "  c1 = 0\n",
        "  if prices[n] <= budget:\n",
        "    c1 = cals[n] + search(n - 1, budget - prices[n])\n",
        "  c2 = search(n - 1, budget)\n",
        "  return max(c1, c2)"
      ],
      "metadata": {
        "id": "KIylgkmElC7m"
      },
      "execution_count": 12,
      "outputs": []
    },
    {
      "cell_type": "code",
      "source": [
        "# 7\n",
        "%%time\n",
        "cal = search(len(names)-1, 1000)\n",
        "print(\"{} kcal\".format(cal))"
      ],
      "metadata": {
        "colab": {
          "base_uri": "https://localhost:8080/"
        },
        "id": "RGTaM54Pm5a0",
        "outputId": "2ac11bbb-9714-48ad-c36b-9e8377ba0ad4"
      },
      "execution_count": 16,
      "outputs": [
        {
          "output_type": "stream",
          "name": "stdout",
          "text": [
            "1940 kcal\n",
            "CPU times: user 5.66 s, sys: 16.8 ms, total: 5.68 s\n",
            "Wall time: 6.07 s\n"
          ]
        }
      ]
    },
    {
      "cell_type": "code",
      "source": [
        "# 8\n",
        "def search_memo(n, budget):\n",
        "  if n < 0:\n",
        "    return 0\n",
        "  if dic[(n, budget)] is not 0:\n",
        "    return dic[(n, budget)]\n",
        "  c1 = 0\n",
        "  if prices[n] <= budget:\n",
        "    c1 = cals[n] + search_memo(n - 1, budget - prices[n])\n",
        "  c2 = search_memo(n - 1, budget)\n",
        "  cmax = max(c1, c2)\n",
        "  dic[(n, budget)] = cmax\n",
        "  return cmax"
      ],
      "metadata": {
        "colab": {
          "base_uri": "https://localhost:8080/"
        },
        "id": "4TMmDkyInmST",
        "outputId": "2eb624ba-8c67-4d24-c14b-9c1772f78cad"
      },
      "execution_count": 19,
      "outputs": [
        {
          "output_type": "stream",
          "name": "stderr",
          "text": [
            "<>:4: SyntaxWarning: \"is not\" with a literal. Did you mean \"!=\"?\n",
            "<>:4: SyntaxWarning: \"is not\" with a literal. Did you mean \"!=\"?\n",
            "<ipython-input-19-ffc8349d5fd1>:4: SyntaxWarning: \"is not\" with a literal. Did you mean \"!=\"?\n",
            "  if dic[(n, budget)] is not 0:\n"
          ]
        }
      ]
    },
    {
      "cell_type": "code",
      "source": [
        "# 9\n",
        "%%time\n",
        "dic = defaultdict(int)\n",
        "cal = search_memo(len(names)-1, 10000)\n",
        "print(f\"{cal} kcal\")"
      ],
      "metadata": {
        "colab": {
          "base_uri": "https://localhost:8080/"
        },
        "id": "9VcfmTivqiG5",
        "outputId": "a083c10d-8239-47d2-9cb3-11f65550adcc"
      },
      "execution_count": 22,
      "outputs": [
        {
          "output_type": "stream",
          "name": "stdout",
          "text": [
            "17048 kcal\n",
            "CPU times: user 1.73 s, sys: 101 ms, total: 1.83 s\n",
            "Wall time: 1.84 s\n"
          ]
        }
      ]
    },
    {
      "cell_type": "code",
      "source": [
        "# 10\n",
        "def get_menu(budget, cal):\n",
        "  menu = []\n",
        "  for n in reversed(range(len(names))):\n",
        "    if cal is 0:\n",
        "      break\n",
        "    if dic[(n, budget)] is not dic[(n - 1, budget)]:\n",
        "      cal -= cals[n]\n",
        "      budget -= prices[n]\n",
        "      menu.append(n)\n",
        "  return menu"
      ],
      "metadata": {
        "colab": {
          "base_uri": "https://localhost:8080/"
        },
        "id": "AveBErEDrEMt",
        "outputId": "3c071f4f-7eeb-473f-f5b5-ccffc3c9ea96"
      },
      "execution_count": 24,
      "outputs": [
        {
          "output_type": "stream",
          "name": "stderr",
          "text": [
            "<>:5: SyntaxWarning: \"is\" with a literal. Did you mean \"==\"?\n",
            "<>:5: SyntaxWarning: \"is\" with a literal. Did you mean \"==\"?\n",
            "<ipython-input-24-3c5ec34cde98>:5: SyntaxWarning: \"is\" with a literal. Did you mean \"==\"?\n",
            "  if cal is 0:\n"
          ]
        }
      ]
    },
    {
      "cell_type": "code",
      "source": [
        "def show_menu(menu):\n",
        "  for i in menu:\n",
        "    print(f\"{names[i]} {prices[i]} Yen {cals[i]} kcal\")\n",
        "  total_price = sum(map(lambda x: prices[x], menu))\n",
        "  total_cal = sum(map(lambda x: cals[x], menu))\n",
        "  print(f\"Total {total_price} Yen, {total_cal} kcal\")"
      ],
      "metadata": {
        "id": "6vTw4fzctHmE"
      },
      "execution_count": 25,
      "outputs": []
    },
    {
      "cell_type": "code",
      "source": [
        "budget = 10000\n",
        "dic = defaultdict(int)\n",
        "cal = search_memo(len(names)-1, budget)\n",
        "menu = get_menu(budget, cal)\n",
        "show_menu(menu)"
      ],
      "metadata": {
        "colab": {
          "base_uri": "https://localhost:8080/"
        },
        "id": "LXh8QFPetnSD",
        "outputId": "31df327a-f145-4e53-ec10-7286bc1b86db"
      },
      "execution_count": 28,
      "outputs": [
        {
          "output_type": "stream",
          "name": "stdout",
          "text": [
            "シナモンフォッカチオ 169 Yen 246 kcal\n",
            "スモールライス 119 Yen 151 kcal\n",
            "ラージライス 219 Yen 454 kcal\n",
            "ライス 169 Yen 303 kcal\n",
            "セットプチフォッカ付きミラノ風ドリア 378 Yen 649 kcal\n",
            "半熟卵のミラノ風ドリア 368 Yen 632 kcal\n",
            "ミラノ風ドリア 299 Yen 542 kcal\n",
            "カルボナーラ(Wサイズ) 976 Yen 1730 kcal\n",
            "パルマ風スパゲッティ(Wサイズ) 770 Yen 1400 kcal\n",
            "タラコソースシシリー風(Wサイズ) 770 Yen 1210 kcal\n",
            "キャベツのペペロンチーノ(Wサイズ) 770 Yen 1372 kcal\n",
            "アーリオ・オーリオ(Wサイズ) 574 Yen 1120 kcal\n",
            "アラビアータ(Wサイズ) 770 Yen 1182 kcal\n",
            "カルボナーラ 499 Yen 865 kcal\n",
            "パルマ風スパゲッティ 399 Yen 700 kcal\n",
            "タラコソースシシリー風 399 Yen 605 kcal\n",
            "キャベツのペペロンチーノ 399 Yen 686 kcal\n",
            "アーリオ・オーリオ 299 Yen 560 kcal\n",
            "アラビアータ 399 Yen 591 kcal\n",
            "野菜ときのこのピザ 399 Yen 610 kcal\n",
            "パンチェッタのピザ 399 Yen 646 kcal\n",
            "プチフォッカ 139 Yen 214 kcal\n",
            "フォッカチオ 119 Yen 214 kcal\n",
            "ポテトのグリル 199 Yen 366 kcal\n",
            "Total 10000 Yen, 17048 kcal\n"
          ]
        }
      ]
    },
    {
      "cell_type": "code",
      "source": [
        ""
      ],
      "metadata": {
        "id": "rUQLOgZitqR8"
      },
      "execution_count": null,
      "outputs": []
    }
  ]
}