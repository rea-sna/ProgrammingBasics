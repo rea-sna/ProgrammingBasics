{
  "nbformat": 4,
  "nbformat_minor": 0,
  "metadata": {
    "colab": {
      "provenance": [],
      "authorship_tag": "ABX9TyPUuxXZdm7yUc2e6FAzZl3A",
      "include_colab_link": true
    },
    "kernelspec": {
      "name": "python3",
      "display_name": "Python 3"
    },
    "language_info": {
      "name": "python"
    }
  },
  "cells": [
    {
      "cell_type": "markdown",
      "metadata": {
        "id": "view-in-github",
        "colab_type": "text"
      },
      "source": [
        "<a href=\"https://colab.research.google.com/github/rea-sna/ProgrammingBasics/blob/main/programmingbasic_10_2.ipynb\" target=\"_parent\"><img src=\"https://colab.research.google.com/assets/colab-badge.svg\" alt=\"Open In Colab\"/></a>"
      ]
    },
    {
      "cell_type": "code",
      "execution_count": null,
      "metadata": {
        "id": "a9mYNuv0-n76"
      },
      "outputs": [],
      "source": [
        "import dis"
      ]
    },
    {
      "cell_type": "code",
      "source": [
        "def calc(code):\n",
        "  data = code.split()\n",
        "  stack = []\n",
        "  for x in data:\n",
        "    print(stack, x, end=\" => \")\n",
        "    if x == '+':\n",
        "      b = stack.pop()\n",
        "      a = stack.pop()\n",
        "      stack.append(a+b)\n",
        "    elif x == '-':\n",
        "      b = stack.pop()\n",
        "      a = stack.pop()\n",
        "      stack.append(a-b)\n",
        "    elif x == '*':\n",
        "      b = stack.pop()\n",
        "      a = stack.pop()\n",
        "      stack.append(a*b)\n",
        "    elif x == '/':\n",
        "      b = stack.pop()\n",
        "      a = stack.pop()\n",
        "      stack.append(int(a/b))\n",
        "    else:\n",
        "      stack.append(int(x))\n",
        "    print(stack)\n",
        "  print(stack.pop())"
      ],
      "metadata": {
        "id": "xtx4aesB-pBX"
      },
      "execution_count": null,
      "outputs": []
    },
    {
      "cell_type": "code",
      "source": [
        "calc(\" 1 2 +\")"
      ],
      "metadata": {
        "colab": {
          "base_uri": "https://localhost:8080/"
        },
        "id": "XgnnRjBH_Fw1",
        "outputId": "4104c0fb-525a-46a1-a91b-1891a35e52bc"
      },
      "execution_count": null,
      "outputs": [
        {
          "output_type": "stream",
          "name": "stdout",
          "text": [
            "[] 1 => [1]\n",
            "[1] 2 => [1, 2]\n",
            "[1, 2] + => [3]\n",
            "3\n"
          ]
        }
      ]
    },
    {
      "cell_type": "code",
      "source": [
        "calc(\"1 2 + 3 * 4 /\")"
      ],
      "metadata": {
        "colab": {
          "base_uri": "https://localhost:8080/"
        },
        "id": "fk0mfJqp_IHL",
        "outputId": "8581861b-f965-4659-d6f6-ee4b3935c867"
      },
      "execution_count": null,
      "outputs": [
        {
          "output_type": "stream",
          "name": "stdout",
          "text": [
            "[] 1 => [1]\n",
            "[1] 2 => [1, 2]\n",
            "[1, 2] + => [3]\n",
            "[3] 3 => [3, 3]\n",
            "[3, 3] * => [9]\n",
            "[9] 4 => [9, 4]\n",
            "[9, 4] / => [2]\n",
            "2\n"
          ]
        }
      ]
    },
    {
      "cell_type": "code",
      "source": [
        "calc(\"1 2 3 * + 4 -\")"
      ],
      "metadata": {
        "colab": {
          "base_uri": "https://localhost:8080/"
        },
        "id": "o1jxwefn_c9H",
        "outputId": "804d135a-b7b2-4bc8-9b24-61da957b54c1"
      },
      "execution_count": null,
      "outputs": [
        {
          "output_type": "stream",
          "name": "stdout",
          "text": [
            "[] 1 => [1]\n",
            "[1] 2 => [1, 2]\n",
            "[1, 2] 3 => [1, 2, 3]\n",
            "[1, 2, 3] * => [1, 6]\n",
            "[1, 6] + => [7]\n",
            "[7] 4 => [7, 4]\n",
            "[7, 4] - => [3]\n",
            "3\n"
          ]
        }
      ]
    },
    {
      "cell_type": "code",
      "source": [
        "calc(\"1 2 3 * + 4 /\")"
      ],
      "metadata": {
        "colab": {
          "base_uri": "https://localhost:8080/"
        },
        "id": "_CnXeiBZASGU",
        "outputId": "d1ffc465-836c-40c8-bdb5-37c9cba01dfb"
      },
      "execution_count": null,
      "outputs": [
        {
          "output_type": "stream",
          "name": "stdout",
          "text": [
            "[] 1 => [1]\n",
            "[1] 2 => [1, 2]\n",
            "[1, 2] 3 => [1, 2, 3]\n",
            "[1, 2, 3] * => [1, 6]\n",
            "[1, 6] + => [7]\n",
            "[7] 4 => [7, 4]\n",
            "[7, 4] / => [1]\n",
            "1\n"
          ]
        }
      ]
    },
    {
      "cell_type": "code",
      "source": [],
      "metadata": {
        "id": "ZseEKvOVBsmE"
      },
      "execution_count": null,
      "outputs": []
    }
  ]
}